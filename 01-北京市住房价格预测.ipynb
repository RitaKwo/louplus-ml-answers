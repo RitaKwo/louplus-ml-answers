{
 "cells": [
  {
   "cell_type": "markdown",
   "metadata": {},
   "source": [
    "# 楼 + 机器学习实战\n",
    "\n",
    "# 挑战：北京市住房价格预测"
   ]
  },
  {
   "cell_type": "markdown",
   "metadata": {},
   "source": [
    "---"
   ]
  },
  {
   "cell_type": "markdown",
   "metadata": {},
   "source": [
    "** 以下内容仅保留挑战代码部分，挑战全文请到原课程查看。**"
   ]
  },
  {
   "cell_type": "markdown",
   "metadata": {},
   "source": [
    "---"
   ]
  },
  {
   "cell_type": "markdown",
   "metadata": {},
   "source": [
    "**挑战：使用 Pandas 加载数据集 CSV 文件，并预览前 `5` 行数据。**"
   ]
  },
  {
   "cell_type": "code",
   "execution_count": null,
   "metadata": {},
   "outputs": [],
   "source": [
    "\"\"\"读取并预览数据集\n",
    "\"\"\"\n",
    "import pandas as pd\n",
    "\n",
    "### 代码开始 ### (≈ 2 行代码)\n",
    "df = pd.read_csv(\"challenge-1-beijing.csv\")\n",
    "df.head()\n",
    "### 代码结束 ###"
   ]
  },
  {
   "cell_type": "markdown",
   "metadata": {},
   "source": [
    "---"
   ]
  },
  {
   "cell_type": "markdown",
   "metadata": {},
   "source": [
    "**挑战：对加载完成的数据集进行划分，分割为特征值 `features` 数据集和目标值 `target` 数据集。**"
   ]
  },
  {
   "cell_type": "code",
   "execution_count": null,
   "metadata": {},
   "outputs": [],
   "source": [
    "\"\"\"将原始数据集切片为所需数据集\n",
    "\"\"\"\n",
    "### 代码开始 ### (≈ 1 行代码)\n",
    "features = df[['公交','写字楼','医院','商场','地铁','学校','建造时间','楼层','面积']]\n",
    "target = df['每平米价格']\n",
    "### 代码结束 ###"
   ]
  },
  {
   "cell_type": "code",
   "execution_count": null,
   "metadata": {},
   "outputs": [],
   "source": [
    "\"\"\"方法二\n",
    "\"\"\"\n",
    "### 代码开始 ### (≈ 1 行代码)\n",
    "features = df[df.columns.drop(['小区名字','房型','每平米价格'])]\n",
    "target = df['每平米价格']\n",
    "### 代码结束 ###"
   ]
  },
  {
   "cell_type": "markdown",
   "metadata": {},
   "source": [
    "---"
   ]
  },
  {
   "cell_type": "markdown",
   "metadata": {},
   "source": [
    "**挑战：将 `features` 和 `target`两个 DataFrame 各划分为 `70%` 和 `30%` 的训练集和测试集。**"
   ]
  },
  {
   "cell_type": "code",
   "execution_count": null,
   "metadata": {},
   "outputs": [],
   "source": [
    "split_num = int(len(df)*0.7) # 70% 分割数\n",
    "\n",
    "### 代码开始 ### (≈ 4 行代码)\n",
    "train_x = features[:split_num]\n",
    "train_y = target[:split_num]\n",
    "test_x = features[split_num:]\n",
    "test_y = target[split_num:]\n",
    "### 代码结束 ###"
   ]
  },
  {
   "cell_type": "markdown",
   "metadata": {},
   "source": [
    "---"
   ]
  },
  {
   "cell_type": "markdown",
   "metadata": {},
   "source": [
    "**挑战：使用 `scikit-learn` 建立并训练线性回归模型。**"
   ]
  },
  {
   "cell_type": "code",
   "execution_count": null,
   "metadata": {},
   "outputs": [],
   "source": [
    "from sklearn.linear_model import LinearRegression\n",
    "\n",
    "### 代码开始 ### (≈ 2 行代码)\n",
    "model = LinearRegression()\n",
    "model.fit(train_x, train_y)\n",
    "### 代码结束 ###"
   ]
  },
  {
   "cell_type": "markdown",
   "metadata": {},
   "source": [
    "---"
   ]
  },
  {
   "cell_type": "markdown",
   "metadata": {},
   "source": [
    "**挑战：使用 NumPy 实现 $MAPE$ 计算函数。**"
   ]
  },
  {
   "cell_type": "code",
   "execution_count": null,
   "metadata": {},
   "outputs": [],
   "source": [
    "import numpy as np\n",
    "\n",
    "def mape(y_true, y_pred):\n",
    "    \"\"\"\n",
    "    参数:\n",
    "    y_true -- 测试集目标真实值\n",
    "    y_pred -- 测试集目标预测值\n",
    "    \n",
    "    返回:\n",
    "    mape -- MAPE 评价指标\n",
    "    \"\"\"\n",
    "    \n",
    "    ### 代码开始 ### (≈ 2 行代码)\n",
    "    n = len(y_true)\n",
    "    mape = 100 * np.sum(np.abs((y_true-y_pred)/y_true)) / n\n",
    "    ### 代码结束 ###\n",
    "    \n",
    "    return mape"
   ]
  },
  {
   "cell_type": "markdown",
   "metadata": {},
   "source": [
    "---"
   ]
  },
  {
   "cell_type": "markdown",
   "metadata": {},
   "source": [
    "<div style=\"color: #999;font-size: 12px;font-style: italic;\">*本课程内容，由作者授权实验楼发布，未经允许，禁止转载、下载及非法传播。</div>"
   ]
  }
 ],
 "metadata": {
  "kernelspec": {
   "display_name": "Python 3",
   "language": "python",
   "name": "python3"
  },
  "language_info": {
   "codemirror_mode": {
    "name": "ipython",
    "version": 3
   },
   "file_extension": ".py",
   "mimetype": "text/x-python",
   "name": "python",
   "nbconvert_exporter": "python",
   "pygments_lexer": "ipython3",
   "version": "3.6.5"
  }
 },
 "nbformat": 4,
 "nbformat_minor": 2
}
