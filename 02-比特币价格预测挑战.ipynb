{
 "cells": [
  {
   "cell_type": "markdown",
   "metadata": {},
   "source": [
    "# 楼 + 机器学习实战\n",
    "\n",
    "# 挑战：比特币价格预测挑战"
   ]
  },
  {
   "cell_type": "markdown",
   "metadata": {},
   "source": [
    "---"
   ]
  },
  {
   "cell_type": "markdown",
   "metadata": {},
   "source": [
    "** 以下内容仅保留挑战代码部分，挑战全文请到原课程查看。**"
   ]
  },
  {
   "cell_type": "markdown",
   "metadata": {},
   "source": [
    "---"
   ]
  },
  {
   "cell_type": "markdown",
   "metadata": {},
   "source": [
    "**挑战：使用 Pandas 加载数据集 CSV 文件，并预览前 `5` 行数据。**"
   ]
  },
  {
   "cell_type": "code",
   "execution_count": null,
   "metadata": {
    "scrolled": false
   },
   "outputs": [],
   "source": [
    "import pandas as pd\n",
    "\n",
    "### 代码开始 ### (≈ 2 行代码)\n",
    "df = pd.read_csv('challenge-2-bitcoin.csv', header=0)\n",
    "df.head()\n",
    "### 代码结束 ###"
   ]
  },
  {
   "cell_type": "markdown",
   "metadata": {},
   "source": [
    "---"
   ]
  },
  {
   "cell_type": "markdown",
   "metadata": {},
   "source": [
    "**挑战：分离出仅包含 `btc_market_price`，`btc_total_bitcoins`，`btc_transaction_fees` 列的 DataFrame，并定义为变量 `data`。**"
   ]
  },
  {
   "cell_type": "code",
   "execution_count": null,
   "metadata": {},
   "outputs": [],
   "source": [
    "\"\"\"从原数据集中分离出需要的数据集（DataFrame）\n",
    "\"\"\"\n",
    "\n",
    "### 代码开始 ### (≈ 1 行代码)\n",
    "data = df[['btc_market_price','btc_total_bitcoins', 'btc_transaction_fees']]\n",
    "### 代码结束 ###"
   ]
  },
  {
   "cell_type": "markdown",
   "metadata": {},
   "source": [
    "---"
   ]
  },
  {
   "cell_type": "markdown",
   "metadata": {},
   "source": [
    "**挑战：分别绘制 `data` 数据集 3 列数据的线形图，并以横向子图排列。**"
   ]
  },
  {
   "cell_type": "code",
   "execution_count": null,
   "metadata": {},
   "outputs": [],
   "source": [
    "\"\"\"绘制数据图像\n",
    "\"\"\"\n",
    "\n",
    "%matplotlib inline\n",
    "from matplotlib import pyplot as plt\n",
    "\n",
    "fig, axes = plt.subplots(1, 3, figsize=(16,5))\n",
    "\n",
    "\n",
    "### 代码开始 ### (≈ 9 行代码)\n",
    "fig, axes = plt.subplots(1, 3, figsize=(16,5))\n",
    "\n",
    "axes[0].plot(data['btc_market_price'], 'green')\n",
    "axes[0].set_xlabel('time')\n",
    "axes[0].set_ylabel('btc_market_price')\n",
    "\n",
    "axes[1].plot(data['btc_total_bitcoins'], 'blue')\n",
    "axes[1].set_xlabel('time')\n",
    "axes[1].set_ylabel('btc_total_bitcoins')\n",
    "\n",
    "axes[2].plot(data['btc_transaction_fees'], 'brown')\n",
    "axes[2].set_xlabel('time')\n",
    "axes[2].set_ylabel('btc_transaction_fees')\n",
    "### 代码结束 ###"
   ]
  },
  {
   "cell_type": "markdown",
   "metadata": {},
   "source": [
    "---"
   ]
  },
  {
   "cell_type": "markdown",
   "metadata": {},
   "source": [
    "**挑战：划分 `data` 数据集，使得训练集占 `70%`，而测试集占 `30%`。**"
   ]
  },
  {
   "cell_type": "code",
   "execution_count": null,
   "metadata": {},
   "outputs": [],
   "source": [
    "\"\"\"划分数据集函数\n",
    "\"\"\"\n",
    "\n",
    "def split_dataset():\n",
    "    \"\"\"\n",
    "    参数:\n",
    "    无\n",
    "\n",
    "    返回:\n",
    "    train_x, train_y, test_x, test_y -- 训练集特征、训练集目标、测试集特征、测试集目标\n",
    "    \"\"\"\n",
    "    \n",
    "    ### 代码开始 ### (≈ 6 行代码)\n",
    "    train_data = data[:int(len(data)*0.7)]\n",
    "    test_data = data[int(len(data)*0.7):]\n",
    "    \n",
    "    train_x = train_data[['btc_total_bitcoins', 'btc_transaction_fees']]\n",
    "    train_y = train_data[['btc_market_price']]\n",
    "    \n",
    "    test_x = test_data[['btc_total_bitcoins', 'btc_transaction_fees']]\n",
    "    test_y = test_data[['btc_market_price']]\n",
    "    ### 代码结束 ###\n",
    "    \n",
    "    return train_x, train_y, test_x, test_y"
   ]
  },
  {
   "cell_type": "markdown",
   "metadata": {},
   "source": [
    "---"
   ]
  },
  {
   "cell_type": "markdown",
   "metadata": {},
   "source": [
    "**挑战：构建 3 次多项式回归预测模型。**"
   ]
  },
  {
   "cell_type": "code",
   "execution_count": null,
   "metadata": {},
   "outputs": [],
   "source": [
    "\"\"\"3 次多项式回归预测模型\n",
    "\"\"\"\n",
    "\n",
    "def poly3():\n",
    "    \n",
    "    \"\"\"\n",
    "    参数:\n",
    "    无\n",
    "\n",
    "    返回:\n",
    "    mae -- 预测结果的 MAE 评价指标\n",
    "    \"\"\"\n",
    "    \n",
    "    ### 代码开始 ### (≈ 7 行代码)\n",
    "    poly_features = PolynomialFeatures(degree=3, include_bias=False)\n",
    "    poly_train_x = poly_features.fit_transform(train_x)\n",
    "    poly_test_x = poly_features.fit_transform(test_x)\n",
    "\n",
    "    model = LinearRegression()\n",
    "    model.fit(poly_train_x, train_y)\n",
    "    pre_y = model.predict(poly_test_x)\n",
    "    \n",
    "    mae = mean_absolute_error(test_y, pre_y.flatten())\n",
    "    ### 代码结束 ###\n",
    "    \n",
    "    return mae"
   ]
  },
  {
   "cell_type": "markdown",
   "metadata": {},
   "source": [
    "---"
   ]
  },
  {
   "cell_type": "markdown",
   "metadata": {},
   "source": [
    "**挑战：计算 `1,2,...,10` 次多项式回归预测结果的 `MSE` 评价指标。**"
   ]
  },
  {
   "cell_type": "code",
   "execution_count": null,
   "metadata": {},
   "outputs": [],
   "source": [
    "\"\"\"N 次多项式回归预测模型\n",
    "\"\"\"\n",
    "\n",
    "from sklearn.pipeline import make_pipeline\n",
    "from sklearn.metrics import mean_squared_error\n",
    "\n",
    "def poly_plot(N):\n",
    " \n",
    "    \"\"\"\n",
    "    参数:\n",
    "    N -- 标量, 多项式次数\n",
    "\n",
    "    返回:\n",
    "    mse -- N 次多项式预测结果的 MSE 评价指标列表\n",
    "    \"\"\"\n",
    "    \n",
    "    m = 1\n",
    "    mse = []\n",
    "    \n",
    "    ### 代码开始 ### (≈ 6 行代码)\n",
    "    while m <= N:\n",
    "        model = make_pipeline(PolynomialFeatures(m, include_bias=False), LinearRegression())\n",
    "        model.fit(train_x, train_y)\n",
    "        pre_y = model.predict(test_x)\n",
    "        mse.append(mean_squared_error(test_y, pre_y.flatten()))\n",
    "        m = m + 1\n",
    "    \n",
    "    ### 代码结束 ###\n",
    "    \n",
    "    return mse"
   ]
  },
  {
   "cell_type": "markdown",
   "metadata": {},
   "source": [
    "---"
   ]
  },
  {
   "cell_type": "markdown",
   "metadata": {},
   "source": [
    "**挑战：将 `MSE` 评价指标绘制成线型图。**"
   ]
  },
  {
   "cell_type": "code",
   "execution_count": null,
   "metadata": {},
   "outputs": [],
   "source": [
    "mse = poly_plot(10)\n",
    "\n",
    "### 代码开始 ### (≈ 2 行代码)\n",
    "plt.plot([i for i in range(1, 11)], mse, 'r')\n",
    "plt.scatter([i for i in range(1, 11)], mse)\n",
    "### 代码结束 ###\n",
    "\n",
    "### 解法二 ###\n",
    "plt.plot(mse, marker='-o')\n",
    "\n",
    "\n",
    "plt.title(\"MSE\")\n",
    "plt.xlabel(\"N\")\n",
    "plt.ylabel(\"MSE\")"
   ]
  },
  {
   "cell_type": "markdown",
   "metadata": {},
   "source": [
    "---"
   ]
  },
  {
   "cell_type": "markdown",
   "metadata": {},
   "source": [
    "<div style=\"color: #999;font-size: 12px;font-style: italic;\">*本课程内容，由作者授权实验楼发布，未经允许，禁止转载、下载及非法传播。</div>"
   ]
  }
 ],
 "metadata": {
  "kernelspec": {
   "display_name": "Python 3",
   "language": "python",
   "name": "python3"
  },
  "language_info": {
   "codemirror_mode": {
    "name": "ipython",
    "version": 3
   },
   "file_extension": ".py",
   "mimetype": "text/x-python",
   "name": "python",
   "nbconvert_exporter": "python",
   "pygments_lexer": "ipython3",
   "version": "3.6.6"
  }
 },
 "nbformat": 4,
 "nbformat_minor": 2
}
