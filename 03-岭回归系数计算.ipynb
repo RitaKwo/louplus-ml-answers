{
 "cells": [
  {
   "cell_type": "markdown",
   "metadata": {},
   "source": [
    "# 楼 + 机器学习实战\n",
    "\n",
    "# 挑战：岭回归系数 $w$ 计算"
   ]
  },
  {
   "cell_type": "markdown",
   "metadata": {},
   "source": [
    "---"
   ]
  },
  {
   "cell_type": "markdown",
   "metadata": {},
   "source": [
    "** 以下内容仅保留挑战代码部分，挑战全文请到原课程查看。**"
   ]
  },
  {
   "cell_type": "markdown",
   "metadata": {},
   "source": [
    "---"
   ]
  },
  {
   "cell_type": "markdown",
   "metadata": {},
   "source": [
    "**挑战：参考公式 $(2)$，完成 Python 实现岭回归系数 $w$ 的计算函数。**"
   ]
  },
  {
   "cell_type": "code",
   "execution_count": null,
   "metadata": {},
   "outputs": [],
   "source": [
    "\"\"\"岭回归系数 w 的计算函数\n",
    "\"\"\"\n",
    "\n",
    "import numpy as np\n",
    "\n",
    "def ridge_regression(X, Y, alpha):\n",
    "    \"\"\"\n",
    "    参数:\n",
    "    X -- 自变量数据矩阵\n",
    "    Y -- 因变量数据矩阵\n",
    "    alpha -- lamda 参数\n",
    "\n",
    "    返回:\n",
    "    W -- 岭回归系数\n",
    "    \"\"\"\n",
    "    \n",
    "    ### 代码开始 ### (≈ 3 行代码)\n",
    "    XTX = X.T * X\n",
    "    reg = XTX + alpha * np.eye(np.shape(X)[1])\n",
    "    W = reg.I * (X.T * Y) \n",
    "    ### 代码结束 ###\n",
    "    \n",
    "    return W"
   ]
  },
  {
   "cell_type": "code",
   "execution_count": null,
   "metadata": {},
   "outputs": [],
   "source": [
    "\"\"\"使用 scikit-learn 计算岭回归系数 w\n",
    "\"\"\"\n",
    "\n",
    "from sklearn.linear_model import Ridge\n",
    "\n",
    "def ridge_model(X, Y, alpha):\n",
    "    \"\"\"\n",
    "    参数:\n",
    "    X -- 自变量数据矩阵\n",
    "    Y -- 因变量数据矩阵\n",
    "    alpha -- lamda 参数\n",
    "\n",
    "    返回:\n",
    "    W -- 岭回归系数\n",
    "    \"\"\"\n",
    "    \n",
    "    ### 代码开始 ### (≈ 3 行代码)\n",
    "    model = Ridge(alpha, fit_intercept=False)\n",
    "    model.fit(X,Y)\n",
    "    W = model.coef_\n",
    "    ### 代码结束 ###\n",
    "    \n",
    "    return W"
   ]
  },
  {
   "cell_type": "markdown",
   "metadata": {},
   "source": [
    "---"
   ]
  },
  {
   "cell_type": "markdown",
   "metadata": {},
   "source": [
    "<div style=\"color: #999;font-size: 12px;font-style: italic;\">*本课程内容，由作者授权实验楼发布，未经允许，禁止转载、下载及非法传播。</div>"
   ]
  }
 ],
 "metadata": {
  "kernelspec": {
   "display_name": "Python 3",
   "language": "python",
   "name": "python3"
  },
  "language_info": {
   "codemirror_mode": {
    "name": "ipython",
    "version": 3
   },
   "file_extension": ".py",
   "mimetype": "text/x-python",
   "name": "python",
   "nbconvert_exporter": "python",
   "pygments_lexer": "ipython3",
   "version": "3.6.5"
  }
 },
 "nbformat": 4,
 "nbformat_minor": 2
}
